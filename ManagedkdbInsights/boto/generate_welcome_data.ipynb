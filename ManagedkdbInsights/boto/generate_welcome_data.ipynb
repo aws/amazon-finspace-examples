{
 "cells": [
  {
   "cell_type": "markdown",
   "id": "f13366f9-080f-4805-8e2a-635b98bb7a28",
   "metadata": {},
   "source": [
    "# Generate Welcome Data\n",
    "Some q code to generate data for an HDB. This q code will be executed in q thru pykx's q magic cell (%%q).\n",
    "\n",
    "**TARBALL CREATION:** tar -czvf hdb.tar.gz hdb\n"
   ]
  },
  {
   "cell_type": "code",
   "execution_count": 1,
   "id": "eec289b8-760c-4b7b-93a2-f6a6c2d9c34d",
   "metadata": {
    "tags": []
   },
   "outputs": [],
   "source": [
    "import pykx as kx"
   ]
  },
  {
   "cell_type": "code",
   "execution_count": 2,
   "id": "d6c2ac26-43fb-4e19-b8f3-2aedbcbefee0",
   "metadata": {
    "tags": []
   },
   "outputs": [
    {
     "name": "stdout",
     "output_type": "stream",
     "text": [
      "\n",
      "::\n",
      "::\n",
      "::\n",
      "::\n",
      "::\n",
      "::\n",
      "::\n",
      "::\n",
      "::\n",
      "::\n",
      "\n"
     ]
    }
   ],
   "source": [
    "%%q\n",
    "\n",
    "/ set compression defaults\n",
    ".z.zd:(17;2;7)\n",
    "\n",
    "/ Number of records in a day\n",
    "num_rec: 1000000\n",
    "\n",
    "/ number of days, will start from today and go back num_days\n",
    "num_days: 10\n",
    "\n",
    "/ path for hdb database\n",
    "db_path:\"hdb\"\n",
    "\n",
    "/ delete directory\n",
    "system \"rm -rf \", db_path\n",
    "\n",
    ".example.writeDay:{[date]\n",
    "\n",
    "    /gen data\n",
    "    example::([]sym:num_rec?`3;time:date+.z.t;number:num_rec?num_rec);\n",
    "\n",
    "    /write hdb\n",
    "    .Q.dpft[hsym `$db_path;date;`sym;`example];\n",
    "    }\n",
    "\n",
    ".example.writeDay each .z.d-1+til num_days\n",
    "\n",
    "system \"tar --exclude=.DS_Store -czf \", db_path,\".tar.gz \", db_path"
   ]
  },
  {
   "cell_type": "code",
   "execution_count": null,
   "id": "491e97ec-820a-4186-8356-4cda0410e9b3",
   "metadata": {},
   "outputs": [],
   "source": []
  }
 ],
 "metadata": {
  "kernelspec": {
   "display_name": "conda_python3",
   "language": "python",
   "name": "conda_python3"
  },
  "language_info": {
   "codemirror_mode": {
    "name": "ipython",
    "version": 3
   },
   "file_extension": ".py",
   "mimetype": "text/x-python",
   "name": "python",
   "nbconvert_exporter": "python",
   "pygments_lexer": "ipython3",
   "version": "3.10.15"
  }
 },
 "nbformat": 4,
 "nbformat_minor": 5
}
