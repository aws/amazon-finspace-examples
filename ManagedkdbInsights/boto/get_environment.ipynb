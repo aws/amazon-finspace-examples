{
 "cells": [
  {
   "cell_type": "markdown",
   "id": "e13084db-c69f-4e70-aa79-acfd2159093a",
   "metadata": {},
   "source": [
    "# Get Environment"
   ]
  },
  {
   "cell_type": "code",
   "execution_count": 1,
   "id": "3698017d-42ed-4280-afa1-723f19ae398c",
   "metadata": {
    "tags": []
   },
   "outputs": [],
   "source": [
    "import os\n",
    "import boto3\n",
    "import json\n",
    "import datetime\n",
    "\n",
    "from managed_kx import *\n",
    "from env import *"
   ]
  },
  {
   "cell_type": "code",
   "execution_count": 2,
   "id": "ed241efe-523e-4d2f-8e1b-94a09adf42e7",
   "metadata": {
    "tags": []
   },
   "outputs": [],
   "source": [
    "# Using credentials and create service client\n",
    "session = boto3.Session()\n",
    "\n",
    "# create finspace client\n",
    "client = session.client(service_name='finspace')"
   ]
  },
  {
   "cell_type": "markdown",
   "id": "6b7294c7-d9a3-4fb2-b671-12ead3e17e83",
   "metadata": {},
   "source": [
    "# Environment Details"
   ]
  },
  {
   "cell_type": "code",
   "execution_count": 3,
   "id": "ccb6b824-4af8-447a-8b0a-ecd4d8136081",
   "metadata": {
    "tags": []
   },
   "outputs": [
    {
     "name": "stdout",
     "output_type": "stream",
     "text": [
      "Environment Information\n",
      "{\n",
      "  \"availabilityZoneIds\": [\n",
      "    \"use1-az1\",\n",
      "    \"use1-az6\",\n",
      "    \"use1-az2\"\n",
      "  ],\n",
      "  \"awsAccountId\": \"829845998889\",\n",
      "  \"certificateAuthorityArn\": \"arn:aws:acm-pca:us-east-1:603187226814:certificate-authority/f9935247-b7f3-456c-b8e0-48b29b70c076\",\n",
      "  \"creationTimestamp\": \"2023-06-05 20:44:00+00:00\",\n",
      "  \"dedicatedServiceAccountId\": \"603187226814\",\n",
      "  \"description\": \"Managed kdb Insights environment\",\n",
      "  \"dnsStatus\": \"NONE\",\n",
      "  \"environmentArn\": \"arn:aws:finspace:us-east-1:829845998889:kxEnvironment/jlcenjvtkgzrdek2qqv7ic\",\n",
      "  \"environmentId\": \"jlcenjvtkgzrdek2qqv7ic\",\n",
      "  \"kmsKeyId\": \"arn:aws:kms:us-east-1:829845998889:key/6643484a-28c3-46f4-8fba-87e67129e027\",\n",
      "  \"name\": \"Managed_kdb_20230605\",\n",
      "  \"status\": \"CREATED\",\n",
      "  \"tgwStatus\": \"SUCCESSFULLY_UPDATED\",\n",
      "  \"transitGatewayConfiguration\": {\n",
      "    \"routableCIDRSpace\": \"100.64.0.0/26\",\n",
      "    \"transitGatewayID\": \"tgw-0307e3bd926e58138\"\n",
      "  },\n",
      "  \"updateTimestamp\": \"2024-11-15 18:23:23.230000+00:00\"\n",
      "}\n",
      "\n",
      "Last Run: 2024-11-26 14:50:41.734837\n"
     ]
    }
   ],
   "source": [
    "resp=get_kx_environment(client, environmentId=ENV_ID)\n",
    "\n",
    "print(\"Environment Information\")\n",
    "#display(resp)\n",
    "print(json.dumps(resp,sort_keys=True,indent=2,default=str))\n",
    "print()\n",
    "print( f\"Last Run: {datetime.datetime.now()}\" )"
   ]
  },
  {
   "cell_type": "code",
   "execution_count": null,
   "id": "d5bd490d-d88c-4d18-afe6-e87e2ff14e2d",
   "metadata": {},
   "outputs": [],
   "source": []
  }
 ],
 "metadata": {
  "kernelspec": {
   "display_name": "conda_python3",
   "language": "python",
   "name": "conda_python3"
  },
  "language_info": {
   "codemirror_mode": {
    "name": "ipython",
    "version": 3
   },
   "file_extension": ".py",
   "mimetype": "text/x-python",
   "name": "python",
   "nbconvert_exporter": "python",
   "pygments_lexer": "ipython3",
   "version": "3.10.15"
  }
 },
 "nbformat": 4,
 "nbformat_minor": 5
}
