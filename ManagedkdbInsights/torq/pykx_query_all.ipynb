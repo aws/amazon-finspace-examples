{
 "cells": [
  {
   "cell_type": "markdown",
   "id": "1334d92e-34f4-448c-b6af-73cba89e9d6d",
   "metadata": {},
   "source": [
    "# PyKX Query Components\n",
    "Query all TorQ Components.\n"
   ]
  },
  {
   "cell_type": "code",
   "execution_count": null,
   "id": "11e9b62a-9cda-4a57-99ca-3b13aff6b7f3",
   "metadata": {
    "tags": []
   },
   "outputs": [],
   "source": [
    "import warnings\n",
    "warnings.simplefilter(action='ignore', category=FutureWarning)\n",
    "\n",
    "import os\n",
    "import boto3\n",
    "import json\n",
    "import datetime\n",
    "\n",
    "import pykx as kx\n",
    "\n",
    "from managed_kx import *\n",
    "from env import *\n",
    "\n",
    "from clusters import *\n",
    "\n",
    "GATEWAY='gateway1'"
   ]
  },
  {
   "cell_type": "code",
   "execution_count": null,
   "id": "cb429a9f-e8a4-41d2-8572-c4e8a49ad387",
   "metadata": {
    "tags": []
   },
   "outputs": [],
   "source": [
    "# Using credentials and create service client\n",
    "session = boto3.Session()\n",
    "\n",
    "# create finspace client\n",
    "client = session.client(service_name='finspace')"
   ]
  },
  {
   "cell_type": "markdown",
   "id": "1d25aa5e-b491-4b2f-b255-75f4e417daee",
   "metadata": {},
   "source": [
    "# List of Clusters"
   ]
  },
  {
   "cell_type": "code",
   "execution_count": null,
   "id": "59c4f259-3c63-438c-bf29-b4e7a46d9420",
   "metadata": {},
   "outputs": [],
   "source": [
    "cdf = get_clusters(client, environmentId=ENV_ID)\n",
    "\n",
    "all_clusters = [d['name'] for d in clusters if 'name' in d]\n",
    "\n",
    "if cdf is not None:\n",
    "    cdf = cdf[cdf['clusterName'].isin(all_clusters)]\n",
    "#    cdf = cdf[cdf['status'].isin(['RUNNING'])]\n",
    "\n",
    "display(cdf)"
   ]
  },
  {
   "cell_type": "markdown",
   "id": "a8f820e4-5768-4f1b-9629-6c15982579a5",
   "metadata": {},
   "source": [
    "# Query the system through the Gateway"
   ]
  },
  {
   "cell_type": "code",
   "execution_count": null,
   "id": "a889a926-3379-470f-bd51-6cce954bd461",
   "metadata": {
    "tags": []
   },
   "outputs": [],
   "source": [
    "conn = get_pykx_connection(client, \n",
    "    environmentId=ENV_ID, clusterName=GATEWAY, \n",
    "    userName=KDB_USERNAME, boto_session=session)\n",
    "\n",
    "queries = [\n",
    "    '.gw.syncexec[\"meta trades\";`rdb]',\n",
    "    '.gw.syncexec[\"meta trades\";`hdb]',\n",
    "    '.gw.syncexec[\"select sum size by sym from trades\";`rdb]',\n",
    "    '.gw.syncexec[\"count trades\";`rdb]',\n",
    "    '.gw.syncexec[\"select [5] from trades\";`rdb]',\n",
    "    '.gw.syncexec[\"select [-5] from trades\";`rdb]',\n",
    "    '.gw.syncexec[\"select count i by date from trades\";`hdb]', # FIXED\n",
    "    '.gw.syncexec[\"select sum size, max price by 0D00:05 xbar time from trades where sym=`IBM\";`hdb`rdb]',\n",
    "    '.gw.syncexecj[\"select sum size by sym from trades\";`rdb`hdb;sum]',\n",
    "]\n",
    "\n",
    "for q in queries:\n",
    "    print(100*\"=\")\n",
    "    print(f\"Query: {q}\")\n",
    "    print(100*\"-\")\n",
    "    display( conn(q).pd() )"
   ]
  },
  {
   "cell_type": "code",
   "execution_count": null,
   "id": "18789f15-e759-4728-9fb8-e2fcbd8a15c1",
   "metadata": {},
   "outputs": [],
   "source": [
    "print( f\"Last Run: {datetime.datetime.now()}\" )"
   ]
  },
  {
   "cell_type": "code",
   "execution_count": null,
   "id": "c051383b-045d-4b82-b84a-2be9530bf69b",
   "metadata": {},
   "outputs": [],
   "source": []
  }
 ],
 "metadata": {
  "kernelspec": {
   "display_name": "Python 3 (ipykernel)",
   "language": "python",
   "name": "python3"
  },
  "language_info": {
   "codemirror_mode": {
    "name": "ipython",
    "version": 3
   },
   "file_extension": ".py",
   "mimetype": "text/x-python",
   "name": "python",
   "nbconvert_exporter": "python",
   "pygments_lexer": "ipython3",
   "version": "3.9.12"
  }
 },
 "nbformat": 4,
 "nbformat_minor": 5
}
