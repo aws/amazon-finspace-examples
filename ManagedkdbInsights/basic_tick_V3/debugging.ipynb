{
 "cells": [
  {
   "cell_type": "markdown",
   "id": "2ec5d9d9-becb-4156-97fb-62354335c047",
   "metadata": {},
   "source": [
    "# Debugging Notebook\n",
    "\n",
    "This notebook is for a remote debugging setup. It uses pykx q magic cells to interact with a remote q process (in this case a managed cluster).\n",
    "\n",
    "## PyKX Reference\n",
    "[PyKX Jupyter q Magic Command](https://code.kx.com/pykx/2.5/getting-started/q_magic_command.html)   \n",
    "\n",
    "## Tailing logs\n",
    "The AWS CLI has the ability to tail cloudwatch logs, you can use the CLI and a terminal window (even in Jupyter) to tail the server logs.\n",
    "\n",
    "[AWS CLI Reference](https://awscli.amazonaws.com/v2/documentation/api/latest/reference/logs/tail.html)\n",
    "\n",
    "## Notes\n",
    "**Debug using a single node cluster**   \n",
    "  - each cell connects to the remote, a multi-node cluster could connect to other nodes of cluster for each cell (%%q magic) used. Any state (like variables and function definitions) are to a specific node of a cluster, so use only one node. \n",
    "    \n"
   ]
  },
  {
   "cell_type": "code",
   "execution_count": 1,
   "id": "d628c863-25f3-4ad3-a66c-fd1a92910dc7",
   "metadata": {
    "tags": []
   },
   "outputs": [],
   "source": [
    "import warnings\n",
    "warnings.simplefilter(action='ignore', category=FutureWarning)\n",
    "\n",
    "import os\n",
    "import boto3\n",
    "import json\n",
    "import datetime\n",
    "\n",
    "import pykx as kx\n",
    "\n",
    "from env import *\n",
    "from managed_kx import *\n",
    "\n",
    "# Cluster names and database\n",
    "from config import *\n",
    "\n",
    "# Specific cluster to connect to\n",
    "CLUSTER_NAME = RDB_CLUSTER_NAME\n",
    "\n",
    "# set pykx local q console width and height\n",
    "kx.q.system.display_size = [50, 1000]\n"
   ]
  },
  {
   "cell_type": "code",
   "execution_count": 2,
   "id": "6925c3e1-311b-4875-85f7-d5b13f60c295",
   "metadata": {
    "tags": []
   },
   "outputs": [],
   "source": [
    "# Using credentials and create service client\n",
    "session = boto3.Session()\n",
    "\n",
    "# create finspace client\n",
    "client = get_client(session=session)"
   ]
  },
  {
   "cell_type": "markdown",
   "id": "893275b8-a1a4-496e-bafc-6169699e947a",
   "metadata": {},
   "source": [
    "# Tail Log\n",
    "In a terminal, use the AWS CLI to tail a cluster's log. You can use the Jupyter terminal and arrange the terminal tab below this notebook in jupyter lab.\n",
    "\n",
    "## Example\n",
    "**ENV_ID:** Finspace environment id   \n",
    "**CLUSTER_NAME:** FinSpace cluster name   \n",
    "```\n",
    "$ aws logs tail /aws/vendedlogs/finspace/ENV_ID/CLUSTER_NAME --follow\n",
    "```\n"
   ]
  },
  {
   "cell_type": "code",
   "execution_count": 3,
   "id": "48bea47a-e1a4-4055-8b07-320201ad28ce",
   "metadata": {
    "tags": []
   },
   "outputs": [
    {
     "name": "stdout",
     "output_type": "stream",
     "text": [
      "aws logs tail /aws/vendedlogs/finspace/jlcenjvtkgzrdek2qqv7ic/RDB_basictickdb --follow\n"
     ]
    }
   ],
   "source": [
    "# Copy/paste for this cluster\n",
    "print( f\"aws logs tail /aws/vendedlogs/finspace/{ENV_ID}/{CLUSTER_NAME} --follow\" )"
   ]
  },
  {
   "cell_type": "markdown",
   "id": "a19be40b-d706-44d8-bde2-65112174c5f8",
   "metadata": {},
   "source": [
    "# Connect to Cluster\n",
    "Use components of the connection string and the pykx included q magic to connect to a cluster and interact with it, useful for remote debugging.\n",
    "\n",
    "**NOTE** You need to permissions to the specific environment and cluster to get it's connection string.\n"
   ]
  },
  {
   "cell_type": "code",
   "execution_count": 4,
   "id": "cdac885f-cce8-474b-b3db-b91d6470b090",
   "metadata": {
    "tags": []
   },
   "outputs": [],
   "source": [
    "# get the full connection string\n",
    "conn_str = get_kx_connection_string(client, \n",
    "                                  environmentId=ENV_ID, clusterName=CLUSTER_NAME, \n",
    "                                   userName=KDB_USERNAME, boto_session=session)\n",
    "\n",
    "host, port, username, password = parse_connection_string(conn_str)"
   ]
  },
  {
   "cell_type": "code",
   "execution_count": 5,
   "id": "70b07923-886c-4a6b-9f8c-33ffdb80e513",
   "metadata": {
    "tags": []
   },
   "outputs": [
    {
     "name": "stdout",
     "output_type": "stream",
     "text": [
      "`q`Q`h`j`o`comkxic`kurl`com_kx_log`s`aws`awscust`aws_metrics`rdb`conn`query`u`debug\n",
      "\n",
      "``args`akda`akre`akif`akp`akm`akv`akdb`akdbs`akeah`aksadb`akcp`akcsp`akscp`akdbp`create_changeset`get_changeset`get_latest_sym_file`copy_database_files`commit_kx_database`get_kx_dataview`update_kx_dataview`sgmtcfg`sgmtcfgs`load_kx_database`_process_clusters_list`list_kx_clusters`_process_node_list`list_kx_cluster_nodes`update_kx_cluster_databases`get_kx_cluster`delete_kx_cluster`stop_current_kx_cluster_creation`cache`db`sdbs`sdep`init_pubsub`del`sel`pub`add`sub`internal_log_info`internal_log_err`run_system_command`s3`logger_info`logger_err`fa_user`apply_auth`get_kx_connection_string`get_kx_node_connection_string`metrics`wraplabels`wrapstring`newmetric`addmetric`updval`on_metrics_poll`on_po`on_pc`on_wo`on_wc`before_pg`after_pg`before_ps`after_ps`before_ph`after_ph`before_pp`after_pp`before_ws`after_ws`before_ts`after_ts`po`pc`wo`wc`pg`ps`ph`pp`ws`ts`overloadhandler`init_metrics`infokeys`infovals`info`mem`mem_heap`mem_lim`mem_max`mem_map`mem_phys`sym_num`sym_mem`ipc_opened`ipc_closed`..\n"
     ]
    }
   ],
   "source": [
    "%%q --host $host --port $port --user $username --pass $password\n",
    "\n",
    "/ list namespaces\n",
    "key `\n",
    "\"\"\n",
    "\n",
    "/ list contents of a specific namespace\n",
    "key `.aws"
   ]
  },
  {
   "cell_type": "code",
   "execution_count": 6,
   "id": "bb480ab7-8b09-4300-88b6-04cdd0fca869",
   "metadata": {
    "tags": []
   },
   "outputs": [
    {
     "name": "stdout",
     "output_type": "stream",
     "text": [
      "dataview_name          | \"basictickdb_DBVIEW\"\n",
      "database_name          | \"basictickdb\"\n",
      "status                 | \"ACTIVE\"\n",
      "changeset_id           | \"pslyVBfwdS41EHpCO31Qqw\"\n",
      "segment_configurations | +`db_paths`volume_name!(,,\"/*\";,\"RDB_TP_SHARED\")\n",
      "availability_zone_id   | \"use1-az6\"\n",
      "az_mode                | \"SINGLE\"\n",
      "description            | \"Dataview of database\"\n",
      "auto_update            | 0b\n",
      "read_write             | 0b\n",
      "active_versions        | +`changeset_id`segment_configurations`attached_clusters`created_timestamp`version_id!(,\"pslyVBfwdS41EHpCO31Qqw\";,+`db_paths`volume_name!(,,\"/*\";,\"RDB_TP_SHARED\");,,\"HDB_basictickdb\";,1.730414e+09;,\"LslyWuJFjEE93ZVmHlujFw\")\n",
      "create_timestamp       | 1.730414e+09\n",
      "last_modified_timestamp| 1.730414e+09\n",
      "\n",
      "changeset_id             segment_configurations                           attached_clusters created_timestamp version_id              \n",
      "--------------------------------------------------------------------------------------------------------------------------------------\n",
      "\"pslyVBfwdS41EHpCO31Qqw\" +`db_paths`volume_name!(,,\"/*\";,\"RDB_TP_SHARED\") \"HDB_basictickdb\" 1.730414e+09      \"LslyWuJFjEE93ZVmHlujFw\"\n",
      "\n",
      "db_paths volume_name    \n",
      "------------------------\n",
      "\"/*\"     \"RDB_TP_SHARED\"\n"
     ]
    }
   ],
   "source": [
    "%%q --host $host --port $port --user $username --pass $password\n",
    "/ call function on remote cluster\n",
    "dview:.aws.get_kx_dataview[.rdb.database;.rdb.dbView];\n",
    "\n",
    "/ display results\n",
    "dview\n",
    "\"\"\n",
    "/ specific elements of results\n",
    "dview`active_versions\n",
    "\"\"\n",
    "\n",
    "dview`segment_configurations"
   ]
  },
  {
   "cell_type": "code",
   "execution_count": 7,
   "id": "f69f6da5-ace0-4fb2-9207-1e4fbaa8bd8b",
   "metadata": {
    "tags": []
   },
   "outputs": [],
   "source": [
    "%%q --host $host --port $port --user $username --pass $password\n",
    "\n",
    "/ define a new function on the server \n",
    "/ this would likely be a function being developed/tested\n",
    "\n",
    ".foo.myfunc:{[name]\n",
    "    nodes: .aws.list_kx_cluster_nodes[name];\n",
    "\n",
    "    {.aws.get_kx_node_connection_string[x;y]}[name] each nodes`node_id\n",
    " }\n"
   ]
  },
  {
   "cell_type": "code",
   "execution_count": 8,
   "id": "60312b78-dda5-4fab-9c7f-dab47606b935",
   "metadata": {
    "tags": []
   },
   "outputs": [
    {
     "name": "stdout",
     "output_type": "stream",
     "text": [
      "\":tcps://ip-192-168-4-150.ec2.internal:443:RDB_basictickdb:Host=ip-192-168-4-150.ec2.internal&Port=443&User=RDB_basictickdb&Action=finspace%3AConnectKxCluster&X-Amz-Security-Token=IQoJb3JpZ2luX2VjECAaCXVzLWVhc3QtMSJHMEUCIQDZWcXmi%2BOeK9JOyIFqes02mmRtlok7EjFXKIail5F5awIgI%2B1S6LgC1S0SRI2iipIHEvKlVvyeZjqUzcU7zpuaBkUqgQMImf%2F%2F%2F%2F%2F%2F%2F%2F%2F%2FARAAGgw4Mjk4NDU5OTg4ODkiDIuHIIE3xlrL%2BqIxWirVAn5JWI30CTUtqC44Uv48tlGKVuWKEBkRKxcR6zx2ryJZYpWgxw%2FFldq7TE2KUpBFNqcqr%2FeFjKvQmxCMKEuwhJk8xzZ%2F%2FnUHBewnhXVpZyV5wTmTgX%2BLQ0hgpOPwfOGCOMdFSdgLRuwySOwGmyARoxwNlCEOzdiRxo7ubR2erExpC%2FngEmAGIyJi9CLTJksyZ7FHy%2BAf9%2BRWrS7CrXLe6hgU6DwenLxrLnMWCdKUvDEdViokVwryUiRA%2BBq%2FIv4%2FoJfWzihVykxCU7sxABDKouOPwPT5JXWkJfWliUZ4mmyEKNi4K2TVi6eqNNuvoz1JtHboa%2FKoncRQmPiqHe3iUtf%2FgD49NmBVzn7h%2FxKjGvN7deg1eUZ1tVjhk5RcZiz6%2Bys34UrHJVOpdHa%2BYyPZcX2wVxkz9tqyBx1oWEL6TA78a8wcLCUJ%2Bc%2FqIUH0IlyHt5QDMTPyMPeikLkGOr8BeiUz9sSMhabxPS8RJfUCfe2uFNR%2BVSG%2Bze9t%2B%2F%2BYql9BDHJIHwbRev7aD1%2FA0uOwSuVCv9zMoGYkevIvvV6..\n"
     ]
    }
   ],
   "source": [
    "%%q --host $host --port $port --user $username --pass $password\n",
    "\n",
    "/ call the function\n",
    ".foo.myfunc[\"TP_basictickdb\"]"
   ]
  },
  {
   "cell_type": "code",
   "execution_count": null,
   "id": "3cf3c844-d7a3-4b27-a11d-6ad00574ea91",
   "metadata": {},
   "outputs": [],
   "source": []
  }
 ],
 "metadata": {
  "kernelspec": {
   "display_name": "conda_pytorch_p310",
   "language": "python",
   "name": "conda_pytorch_p310"
  },
  "language_info": {
   "codemirror_mode": {
    "name": "ipython",
    "version": 3
   },
   "file_extension": ".py",
   "mimetype": "text/x-python",
   "name": "python",
   "nbconvert_exporter": "python",
   "pygments_lexer": "ipython3",
   "version": "3.10.14"
  }
 },
 "nbformat": 4,
 "nbformat_minor": 5
}
